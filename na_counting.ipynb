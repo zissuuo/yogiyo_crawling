{
 "cells": [
  {
   "cell_type": "code",
   "execution_count": null,
   "metadata": {},
   "outputs": [],
   "source": [
    "import pandas as pd"
   ]
  },
  {
   "cell_type": "markdown",
   "metadata": {},
   "source": [
    "### 크롤링 안된 가게 찾기"
   ]
  },
  {
   "cell_type": "code",
   "execution_count": null,
   "metadata": {},
   "outputs": [],
   "source": [
    "review = pd.read_csv('review_data.csv', index_col=0)\n",
    "store = pd.read_csv('store_data.csv', index_col=0)"
   ]
  },
  {
   "cell_type": "code",
   "execution_count": null,
   "metadata": {},
   "outputs": [],
   "source": [
    "# 가게 별 리뷰 수 카운팅\n",
    "review_count = review['store'].value_counts().reset_index()\n",
    "review_count.columns = ['store', 'review_count']\n",
    "review_count"
   ]
  },
  {
   "cell_type": "code",
   "execution_count": null,
   "metadata": {},
   "outputs": [],
   "source": [
    "# 가게 별 리뷰 수와 url 정보를 store_sub에 저장\n",
    "\n",
    "store_sub = store[['store', 'url']].drop_duplicates()\n",
    "store_sub = pd.merge(store_sub, review_count, on='store', how='left')\n",
    "store_sub"
   ]
  },
  {
   "cell_type": "code",
   "execution_count": null,
   "metadata": {},
   "outputs": [],
   "source": [
    "# 리뷰 0개인 가게 결측치 -> 0으로 채우기\n",
    "\n",
    "zero_review = ['육초연비빔밥&초밥', '도시전집-본점', '사거리식당-건대직영점', '한양대육회집-구의점', '제육홀릭-건대점',\n",
    "               '건대해물포차', '삼춘분식', '성식이네매운닭발-건대점', '라푸마라탕-강변본점', '오늘은등갈비',\n",
    "               '양가네집밥도시락-건대점', '따뜻한죽-용마산점', '경성꽈배기-중곡점', '엑스(X)맥주방', '한솥도시락-자양고점',\n",
    "               '꽃피는곱도리탕-건대점', '오늘은전골-건대점', '영동수산마켓-광진점']\n",
    "store_sub.loc[store_sub['store'].isin(zero_review), 'review_count'] = 0\n",
    "\n",
    "review_na = store_sub[store_sub['review_count'].isnull()]\n",
    "review_na['url'].to_list()"
   ]
  },
  {
   "cell_type": "code",
   "execution_count": null,
   "metadata": {},
   "outputs": [],
   "source": [
    "# 전체 가게 중 리뷰 없는 가게 찾기\n",
    "\n",
    "review_na.reset_index(drop=True).to_csv('review_na.csv')\n",
    "review_na"
   ]
  },
  {
   "cell_type": "code",
   "execution_count": null,
   "metadata": {},
   "outputs": [],
   "source": [
    "len(review_na['url'].to_list())"
   ]
  }
 ],
 "metadata": {
  "kernelspec": {
   "display_name": "base",
   "language": "python",
   "name": "python3"
  },
  "language_info": {
   "codemirror_mode": {
    "name": "ipython",
    "version": 3
   },
   "file_extension": ".py",
   "mimetype": "text/x-python",
   "name": "python",
   "nbconvert_exporter": "python",
   "pygments_lexer": "ipython3",
   "version": "3.10.9"
  }
 },
 "nbformat": 4,
 "nbformat_minor": 2
}
